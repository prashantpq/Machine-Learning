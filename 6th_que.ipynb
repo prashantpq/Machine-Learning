{
 "cells": [
  {
   "cell_type": "code",
   "execution_count": 1,
   "id": "18dc91bc",
   "metadata": {},
   "outputs": [],
   "source": [
    "import numpy as np\n",
    "import pandas as pd"
   ]
  },
  {
   "cell_type": "code",
   "execution_count": 2,
   "id": "eb774235",
   "metadata": {},
   "outputs": [],
   "source": [
    "df = pd.read_csv(\"Ge7.csv\")"
   ]
  },
  {
   "cell_type": "code",
   "execution_count": 5,
   "id": "6e8f79c0",
   "metadata": {},
   "outputs": [
    {
     "data": {
      "text/html": [
       "<div>\n",
       "<style scoped>\n",
       "    .dataframe tbody tr th:only-of-type {\n",
       "        vertical-align: middle;\n",
       "    }\n",
       "\n",
       "    .dataframe tbody tr th {\n",
       "        vertical-align: top;\n",
       "    }\n",
       "\n",
       "    .dataframe thead th {\n",
       "        text-align: right;\n",
       "    }\n",
       "</style>\n",
       "<table border=\"1\" class=\"dataframe\">\n",
       "  <thead>\n",
       "    <tr style=\"text-align: right;\">\n",
       "      <th></th>\n",
       "      <th>Name</th>\n",
       "      <th>Gender</th>\n",
       "      <th>Monthly Income (Rs.)</th>\n",
       "    </tr>\n",
       "  </thead>\n",
       "  <tbody>\n",
       "    <tr>\n",
       "      <th>0</th>\n",
       "      <td>Shah</td>\n",
       "      <td>Male</td>\n",
       "      <td>114000</td>\n",
       "    </tr>\n",
       "    <tr>\n",
       "      <th>1</th>\n",
       "      <td>Vats</td>\n",
       "      <td>Male</td>\n",
       "      <td>65000</td>\n",
       "    </tr>\n",
       "    <tr>\n",
       "      <th>2</th>\n",
       "      <td>Vats</td>\n",
       "      <td>Female</td>\n",
       "      <td>43150</td>\n",
       "    </tr>\n",
       "    <tr>\n",
       "      <th>3</th>\n",
       "      <td>Kumar</td>\n",
       "      <td>Female</td>\n",
       "      <td>69500</td>\n",
       "    </tr>\n",
       "    <tr>\n",
       "      <th>4</th>\n",
       "      <td>Vats</td>\n",
       "      <td>Female</td>\n",
       "      <td>155000</td>\n",
       "    </tr>\n",
       "    <tr>\n",
       "      <th>5</th>\n",
       "      <td>Kumar</td>\n",
       "      <td>Male</td>\n",
       "      <td>103000</td>\n",
       "    </tr>\n",
       "    <tr>\n",
       "      <th>6</th>\n",
       "      <td>Shah</td>\n",
       "      <td>Male</td>\n",
       "      <td>55000</td>\n",
       "    </tr>\n",
       "    <tr>\n",
       "      <th>7</th>\n",
       "      <td>Shah</td>\n",
       "      <td>Female</td>\n",
       "      <td>112400</td>\n",
       "    </tr>\n",
       "    <tr>\n",
       "      <th>8</th>\n",
       "      <td>Kumar</td>\n",
       "      <td>Female</td>\n",
       "      <td>81030</td>\n",
       "    </tr>\n",
       "    <tr>\n",
       "      <th>9</th>\n",
       "      <td>Vats</td>\n",
       "      <td>Male</td>\n",
       "      <td>71900</td>\n",
       "    </tr>\n",
       "  </tbody>\n",
       "</table>\n",
       "</div>"
      ],
      "text/plain": [
       "    Name  Gender  Monthly Income (Rs.)\n",
       "0   Shah    Male                114000\n",
       "1   Vats    Male                 65000\n",
       "2   Vats  Female                 43150\n",
       "3  Kumar  Female                 69500\n",
       "4   Vats  Female                155000\n",
       "5  Kumar    Male                103000\n",
       "6   Shah    Male                 55000\n",
       "7   Shah  Female                112400\n",
       "8  Kumar  Female                 81030\n",
       "9   Vats    Male                 71900"
      ]
     },
     "execution_count": 5,
     "metadata": {},
     "output_type": "execute_result"
    }
   ],
   "source": [
    "df.head(10)"
   ]
  },
  {
   "cell_type": "code",
   "execution_count": 8,
   "id": "1dc80e9b",
   "metadata": {},
   "outputs": [
    {
     "name": "stdout",
     "output_type": "stream",
     "text": [
      "Member with the highest monthly income:\n",
      "Name                      Vats\n",
      "Gender                  Female\n",
      "Monthly Income (Rs.)    155000\n",
      "Name: 4, dtype: object\n",
      "\n"
     ]
    }
   ],
   "source": [
    "highest_income_member = df.loc[df['Monthly Income (Rs.)'].idxmax()]\n",
    "print(\"Member with the highest monthly income:\")\n",
    "print(highest_income_member)\n",
    "print()"
   ]
  },
  {
   "cell_type": "code",
   "execution_count": 9,
   "id": "c1c4c02e",
   "metadata": {},
   "outputs": [
    {
     "name": "stdout",
     "output_type": "stream",
     "text": [
      "Monthly income of members with income greater than Rs. 60000.00:\n",
      "    Name  Gender  Monthly Income (Rs.)\n",
      "0   Shah    Male                114000\n",
      "1   Vats    Male                 65000\n",
      "3  Kumar  Female                 69500\n",
      "4   Vats  Female                155000\n",
      "5  Kumar    Male                103000\n",
      "7   Shah  Female                112400\n",
      "8  Kumar  Female                 81030\n",
      "9   Vats    Male                 71900\n",
      "\n"
     ]
    }
   ],
   "source": [
    "income_greater_than_60000 = df[df['Monthly Income (Rs.)'] > 60000.00]\n",
    "print(\"Monthly income of members with income greater than Rs. 60000.00:\")\n",
    "print(income_greater_than_60000)\n",
    "print()"
   ]
  },
  {
   "cell_type": "code",
   "execution_count": 11,
   "id": "9c7537c5",
   "metadata": {},
   "outputs": [
    {
     "name": "stdout",
     "output_type": "stream",
     "text": [
      "Average monthly income of female members: 92216.0\n"
     ]
    }
   ],
   "source": [
    "average_female_income = df[df['Gender'] == 'Female']['Monthly Income (Rs.)'].mean()\n",
    "print(\"Average monthly income of female members:\", average_female_income)"
   ]
  },
  {
   "cell_type": "code",
   "execution_count": null,
   "id": "7db85adb",
   "metadata": {},
   "outputs": [],
   "source": []
  }
 ],
 "metadata": {
  "kernelspec": {
   "display_name": "Python 3 (ipykernel)",
   "language": "python",
   "name": "python3"
  },
  "language_info": {
   "codemirror_mode": {
    "name": "ipython",
    "version": 3
   },
   "file_extension": ".py",
   "mimetype": "text/x-python",
   "name": "python",
   "nbconvert_exporter": "python",
   "pygments_lexer": "ipython3",
   "version": "3.10.9"
  }
 },
 "nbformat": 4,
 "nbformat_minor": 5
}
