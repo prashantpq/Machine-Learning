{
 "cells": [
  {
   "cell_type": "code",
   "execution_count": null,
   "id": "d6d6f508",
   "metadata": {},
   "outputs": [],
   "source": [
    "import pandas as pd    \n",
    "import numpy as np"
   ]
  },
  {
   "cell_type": "code",
   "execution_count": 29,
   "id": "3d084112",
   "metadata": {},
   "outputs": [],
   "source": [
    "df = pd.DataFrame(np.random.randint(0,100,size=(15, 4)), columns=list('ABCD'))"
   ]
  },
  {
   "cell_type": "code",
   "execution_count": 30,
   "id": "bed89cac",
   "metadata": {},
   "outputs": [
    {
     "data": {
      "text/html": [
       "<div>\n",
       "<style scoped>\n",
       "    .dataframe tbody tr th:only-of-type {\n",
       "        vertical-align: middle;\n",
       "    }\n",
       "\n",
       "    .dataframe tbody tr th {\n",
       "        vertical-align: top;\n",
       "    }\n",
       "\n",
       "    .dataframe thead th {\n",
       "        text-align: right;\n",
       "    }\n",
       "</style>\n",
       "<table border=\"1\" class=\"dataframe\">\n",
       "  <thead>\n",
       "    <tr style=\"text-align: right;\">\n",
       "      <th></th>\n",
       "      <th>A</th>\n",
       "      <th>B</th>\n",
       "      <th>C</th>\n",
       "      <th>D</th>\n",
       "    </tr>\n",
       "  </thead>\n",
       "  <tbody>\n",
       "    <tr>\n",
       "      <th>0</th>\n",
       "      <td>56</td>\n",
       "      <td>10</td>\n",
       "      <td>88</td>\n",
       "      <td>36</td>\n",
       "    </tr>\n",
       "    <tr>\n",
       "      <th>1</th>\n",
       "      <td>51</td>\n",
       "      <td>92</td>\n",
       "      <td>2</td>\n",
       "      <td>54</td>\n",
       "    </tr>\n",
       "    <tr>\n",
       "      <th>2</th>\n",
       "      <td>60</td>\n",
       "      <td>89</td>\n",
       "      <td>77</td>\n",
       "      <td>8</td>\n",
       "    </tr>\n",
       "    <tr>\n",
       "      <th>3</th>\n",
       "      <td>38</td>\n",
       "      <td>14</td>\n",
       "      <td>34</td>\n",
       "      <td>29</td>\n",
       "    </tr>\n",
       "    <tr>\n",
       "      <th>4</th>\n",
       "      <td>77</td>\n",
       "      <td>9</td>\n",
       "      <td>7</td>\n",
       "      <td>79</td>\n",
       "    </tr>\n",
       "    <tr>\n",
       "      <th>5</th>\n",
       "      <td>58</td>\n",
       "      <td>67</td>\n",
       "      <td>58</td>\n",
       "      <td>41</td>\n",
       "    </tr>\n",
       "    <tr>\n",
       "      <th>6</th>\n",
       "      <td>96</td>\n",
       "      <td>96</td>\n",
       "      <td>58</td>\n",
       "      <td>76</td>\n",
       "    </tr>\n",
       "    <tr>\n",
       "      <th>7</th>\n",
       "      <td>49</td>\n",
       "      <td>94</td>\n",
       "      <td>87</td>\n",
       "      <td>28</td>\n",
       "    </tr>\n",
       "    <tr>\n",
       "      <th>8</th>\n",
       "      <td>45</td>\n",
       "      <td>34</td>\n",
       "      <td>99</td>\n",
       "      <td>34</td>\n",
       "    </tr>\n",
       "    <tr>\n",
       "      <th>9</th>\n",
       "      <td>8</td>\n",
       "      <td>53</td>\n",
       "      <td>77</td>\n",
       "      <td>67</td>\n",
       "    </tr>\n",
       "    <tr>\n",
       "      <th>10</th>\n",
       "      <td>56</td>\n",
       "      <td>87</td>\n",
       "      <td>7</td>\n",
       "      <td>21</td>\n",
       "    </tr>\n",
       "    <tr>\n",
       "      <th>11</th>\n",
       "      <td>91</td>\n",
       "      <td>35</td>\n",
       "      <td>69</td>\n",
       "      <td>51</td>\n",
       "    </tr>\n",
       "    <tr>\n",
       "      <th>12</th>\n",
       "      <td>65</td>\n",
       "      <td>76</td>\n",
       "      <td>85</td>\n",
       "      <td>60</td>\n",
       "    </tr>\n",
       "    <tr>\n",
       "      <th>13</th>\n",
       "      <td>35</td>\n",
       "      <td>2</td>\n",
       "      <td>45</td>\n",
       "      <td>27</td>\n",
       "    </tr>\n",
       "    <tr>\n",
       "      <th>14</th>\n",
       "      <td>27</td>\n",
       "      <td>95</td>\n",
       "      <td>0</td>\n",
       "      <td>58</td>\n",
       "    </tr>\n",
       "  </tbody>\n",
       "</table>\n",
       "</div>"
      ],
      "text/plain": [
       "     A   B   C   D\n",
       "0   56  10  88  36\n",
       "1   51  92   2  54\n",
       "2   60  89  77   8\n",
       "3   38  14  34  29\n",
       "4   77   9   7  79\n",
       "5   58  67  58  41\n",
       "6   96  96  58  76\n",
       "7   49  94  87  28\n",
       "8   45  34  99  34\n",
       "9    8  53  77  67\n",
       "10  56  87   7  21\n",
       "11  91  35  69  51\n",
       "12  65  76  85  60\n",
       "13  35   2  45  27\n",
       "14  27  95   0  58"
      ]
     },
     "execution_count": 30,
     "metadata": {},
     "output_type": "execute_result"
    }
   ],
   "source": [
    "df"
   ]
  },
  {
   "cell_type": "code",
   "execution_count": 18,
   "id": "48be3c06",
   "metadata": {},
   "outputs": [
    {
     "ename": "ValueError",
     "evalue": "cannot convert float NaN to integer",
     "output_type": "error",
     "traceback": [
      "\u001b[1;31m---------------------------------------------------------------------------\u001b[0m",
      "\u001b[1;31mValueError\u001b[0m                                Traceback (most recent call last)",
      "Cell \u001b[1;32mIn[18], line 2\u001b[0m\n\u001b[0;32m      1\u001b[0m null_indices \u001b[38;5;241m=\u001b[39m np\u001b[38;5;241m.\u001b[39mrandom\u001b[38;5;241m.\u001b[39mchoice(df\u001b[38;5;241m.\u001b[39msize, size\u001b[38;5;241m=\u001b[39m\u001b[38;5;28mint\u001b[39m(df\u001b[38;5;241m.\u001b[39msize \u001b[38;5;241m*\u001b[39m \u001b[38;5;241m0.1\u001b[39m), replace\u001b[38;5;241m=\u001b[39m\u001b[38;5;28;01mFalse\u001b[39;00m)\n\u001b[1;32m----> 2\u001b[0m df\u001b[38;5;241m.\u001b[39mvalues\u001b[38;5;241m.\u001b[39mravel()[null_indices] \u001b[38;5;241m=\u001b[39m np\u001b[38;5;241m.\u001b[39mnan\n",
      "\u001b[1;31mValueError\u001b[0m: cannot convert float NaN to integer"
     ]
    }
   ],
   "source": [
    "null_indices = np.random.choice(df.size, size=int(df.size * 0.1), replace=False)\n",
    "df.values.ravel()[null_indices] = np.nan"
   ]
  },
  {
   "cell_type": "code",
   "execution_count": 19,
   "id": "85d50ab0",
   "metadata": {},
   "outputs": [
    {
     "data": {
      "text/plain": [
       "array([27, 39, 57, 18, 41,  1])"
      ]
     },
     "execution_count": 19,
     "metadata": {},
     "output_type": "execute_result"
    }
   ],
   "source": [
    "null_indices"
   ]
  },
  {
   "cell_type": "code",
   "execution_count": 20,
   "id": "35860d0d",
   "metadata": {},
   "outputs": [
    {
     "name": "stdout",
     "output_type": "stream",
     "text": [
      "Missing values count:\n",
      "A    0\n",
      "B    0\n",
      "C    0\n",
      "D    0\n",
      "dtype: int64\n"
     ]
    }
   ],
   "source": [
    "missing_values_count = df.isnull().sum()\n",
    "print(\"Missing values count:\")\n",
    "print(missing_values_count)"
   ]
  },
  {
   "cell_type": "code",
   "execution_count": 21,
   "id": "1417c03e",
   "metadata": {},
   "outputs": [
    {
     "name": "stdout",
     "output_type": "stream",
     "text": [
      "Data frame after dropping columns:\n",
      "     A   B   C   D\n",
      "0   17  34  29  46\n",
      "1   43  55  33  77\n",
      "2   28  47  41  73\n",
      "3   73  24  59  83\n",
      "4   52   8   4  94\n",
      "5    2  51   5  69\n",
      "6   43  11  84   3\n",
      "7   82  86  29  60\n",
      "8   76  67  50  39\n",
      "9   94  88  91  76\n",
      "10  19  57  72  99\n",
      "11  36  85  79  12\n",
      "12  99  79  40  34\n",
      "13  13  41  17  99\n",
      "14  36  50  34  33\n"
     ]
    }
   ],
   "source": [
    "df = df.dropna(axis=1, thresh=df.shape[0] - 5)\n",
    "print(\"Data frame after dropping columns:\")\n",
    "print(df)"
   ]
  },
  {
   "cell_type": "code",
   "execution_count": 22,
   "id": "92e480a5",
   "metadata": {},
   "outputs": [
    {
     "name": "stdout",
     "output_type": "stream",
     "text": [
      "Data frame after dropping row with the maximum sum:\n",
      "     A   B   C   D\n",
      "0   17  34  29  46\n",
      "1   43  55  33  77\n",
      "2   28  47  41  73\n",
      "3   73  24  59  83\n",
      "4   52   8   4  94\n",
      "5    2  51   5  69\n",
      "6   43  11  84   3\n",
      "7   82  86  29  60\n",
      "8   76  67  50  39\n",
      "10  19  57  72  99\n",
      "11  36  85  79  12\n",
      "12  99  79  40  34\n",
      "13  13  41  17  99\n",
      "14  36  50  34  33\n"
     ]
    }
   ],
   "source": [
    "max_sum_row_label = df.sum(axis=1).idxmax()\n",
    "df = df.drop(max_sum_row_label)\n",
    "print(\"Data frame after dropping row with the maximum sum:\")\n",
    "print(df)"
   ]
  },
  {
   "cell_type": "code",
   "execution_count": 24,
   "id": "d9626207",
   "metadata": {},
   "outputs": [
    {
     "name": "stdout",
     "output_type": "stream",
     "text": [
      "Data frame after sorting based on the first column:\n",
      "     A   B   C   D\n",
      "5    2  51   5  69\n",
      "13  13  41  17  99\n",
      "0   17  34  29  46\n",
      "10  19  57  72  99\n",
      "2   28  47  41  73\n",
      "11  36  85  79  12\n",
      "14  36  50  34  33\n",
      "1   43  55  33  77\n",
      "6   43  11  84   3\n",
      "4   52   8   4  94\n",
      "3   73  24  59  83\n",
      "8   76  67  50  39\n",
      "7   82  86  29  60\n",
      "12  99  79  40  34\n"
     ]
    }
   ],
   "source": [
    "df = df.sort_values(by='A')\n",
    "print(\"Data frame after sorting based on the first column:\")\n",
    "print(df)"
   ]
  },
  {
   "cell_type": "code",
   "execution_count": 25,
   "id": "1046b9a3",
   "metadata": {},
   "outputs": [
    {
     "name": "stdout",
     "output_type": "stream",
     "text": [
      "Data frame after removing duplicates from the first column:\n",
      "       A   B   C   D\n",
      "5    2.0  51   5  69\n",
      "13  13.0  41  17  99\n",
      "0   17.0  34  29  46\n",
      "10  19.0  57  72  99\n",
      "2   28.0  47  41  73\n",
      "11  36.0  85  79  12\n",
      "14   NaN  50  34  33\n",
      "1   43.0  55  33  77\n",
      "6    NaN  11  84   3\n",
      "4   52.0   8   4  94\n",
      "3   73.0  24  59  83\n",
      "8   76.0  67  50  39\n",
      "7   82.0  86  29  60\n",
      "12  99.0  79  40  34\n"
     ]
    }
   ],
   "source": [
    "df['A'] = df['A'].drop_duplicates()\n",
    "print(\"Data frame after removing duplicates from the first column:\")\n",
    "print(df)"
   ]
  },
  {
   "cell_type": "code",
   "execution_count": 27,
   "id": "96daed79",
   "metadata": {},
   "outputs": [
    {
     "name": "stdout",
     "output_type": "stream",
     "text": [
      "Correlation between the first and second columns:\n",
      "0.31736046448663674\n",
      "Covariance between the second and third columns:\n",
      "75.43956043956047\n"
     ]
    }
   ],
   "source": [
    "correlation = df['A'].corr(df['B'])\n",
    "covariance = df['B'].cov(df['C'])\n",
    "print(\"Correlation between the first and second columns:\")\n",
    "print(correlation)\n",
    "print(\"Covariance between the second and third columns:\")\n",
    "print(covariance)"
   ]
  },
  {
   "cell_type": "code",
   "execution_count": 28,
   "id": "d99f9b45",
   "metadata": {},
   "outputs": [
    {
     "name": "stdout",
     "output_type": "stream",
     "text": [
      "Data frame with second column discretized into 5 bins:\n",
      "       A   B   C   D         B_bins\n",
      "5    2.0  51   5  69   (39.2, 54.8]\n",
      "13  13.0  41  17  99   (39.2, 54.8]\n",
      "0   17.0  34  29  46   (23.6, 39.2]\n",
      "10  19.0  57  72  99   (54.8, 70.4]\n",
      "2   28.0  47  41  73   (39.2, 54.8]\n",
      "11  36.0  85  79  12   (70.4, 86.0]\n",
      "14   NaN  50  34  33   (39.2, 54.8]\n",
      "1   43.0  55  33  77   (54.8, 70.4]\n",
      "6    NaN  11  84   3  (7.922, 23.6]\n",
      "4   52.0   8   4  94  (7.922, 23.6]\n",
      "3   73.0  24  59  83   (23.6, 39.2]\n",
      "8   76.0  67  50  39   (54.8, 70.4]\n",
      "7   82.0  86  29  60   (70.4, 86.0]\n",
      "12  99.0  79  40  34   (70.4, 86.0]\n"
     ]
    }
   ],
   "source": [
    "df['B_bins'] = pd.cut(df['B'], bins=5)\n",
    "print(\"Data frame with second column discretized into 5 bins:\")\n",
    "print(df)"
   ]
  },
  {
   "cell_type": "markdown",
   "id": "162e7e9c",
   "metadata": {},
   "source": []
  }
 ],
 "metadata": {
  "kernelspec": {
   "display_name": "Python 3 (ipykernel)",
   "language": "python",
   "name": "python3"
  },
  "language_info": {
   "codemirror_mode": {
    "name": "ipython",
    "version": 3
   },
   "file_extension": ".py",
   "mimetype": "text/x-python",
   "name": "python",
   "nbconvert_exporter": "python",
   "pygments_lexer": "ipython3",
   "version": "3.10.9"
  }
 },
 "nbformat": 4,
 "nbformat_minor": 5
}
